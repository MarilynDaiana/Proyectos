{
  "nbformat": 4,
  "nbformat_minor": 0,
  "metadata": {
    "colab": {
      "provenance": [],
      "authorship_tag": "ABX9TyNwkFpQlGrNlT0mmcecmG8o",
      "include_colab_link": true
    },
    "kernelspec": {
      "name": "python3",
      "display_name": "Python 3"
    },
    "language_info": {
      "name": "python"
    }
  },
  "cells": [
    {
      "cell_type": "markdown",
      "metadata": {
        "id": "view-in-github",
        "colab_type": "text"
      },
      "source": [
        "<a href=\"https://colab.research.google.com/github/MarilynDaiana/Proyectos/blob/main/TrabajoJava.ipynb\" target=\"_parent\"><img src=\"https://colab.research.google.com/assets/colab-badge.svg\" alt=\"Open In Colab\"/></a>"
      ]
    },
    {
      "cell_type": "markdown",
      "source": [
        "EJERCICIO EN JAVA"
      ],
      "metadata": {
        "id": "dS009n4AD8oa"
      }
    },
    {
      "cell_type": "code",
      "execution_count": 1,
      "metadata": {
        "colab": {
          "base_uri": "https://localhost:8080/"
        },
        "id": "mm0uSHMoDuDN",
        "outputId": "6f7b1d98-0ad4-4ff4-ae4f-8945a3c8bc2a"
      },
      "outputs": [
        {
          "output_type": "stream",
          "name": "stdout",
          "text": [
            "Writing CreacionDeProcesos.java\n"
          ]
        }
      ],
      "source": [
        "%%writefile CreacionDeProcesos.java\n",
        "import java.io.IOException;\n",
        "\n",
        "public class CreacionDeProcesos\n",
        "{\n",
        "  public static void mostrarInfo(char identidadDelProceso) throws InterruptedException  //OBTENER Y MOSTRAR PID Y PPID\n",
        "  {\n",
        "    ProcessHandle yo = ProcessHandle.current();\n",
        "    long pid = yo.pid();\n",
        "    long ppid = yo.parent().get().pid();\n",
        "    System.out.println(\"Soy el proceso \" + identidadDelProceso + \" con PID: \" + pid + \". Mi padre es el proceso con PID: \" + ppid);\n",
        "  }\n",
        "\n",
        "  public static void main(String[] args) throws IOException, InterruptedException\n",
        "  {\n",
        "    char identidadDelProceso = 'A';\n",
        "    int cantHijos = 3;                              //DETERMINA LA DURACION DEL CICLO FOR DE CREACION Y ESPERA DE PROCESOS\n",
        "    ProcessBuilder pb;\n",
        "    int error;\n",
        "\n",
        "    Process [] procesos = new Process[cantHijos];   //CREO UN ARRAY PARA CONTENER TODOS LOS PROCESOS HIJOS\n",
        "\n",
        "    try\n",
        "    {\n",
        "      for(int i=0; i<cantHijos; i++)                //CREO UNO POR UNO\n",
        "      {\n",
        "        pb = new ProcessBuilder(\"java\", \"Hijo.java\", Character.toString(identidadDelProceso+1+i));\n",
        "        pb.redirectErrorStream(true);\n",
        "        pb.inheritIO();\n",
        "        procesos [i] = pb.start();\n",
        "      }\n",
        "\n",
        "      mostrarInfo(identidadDelProceso);            //LLAMO AL METODO PARA MOSTRAR LA INFO DEL PADRE\n",
        "\n",
        "      for(int i=0; i<cantHijos; i++)               //RECORRO EL ARRAY DE PROCESOS HIJOS PARA ESPERAR A TODOS\n",
        "      {\n",
        "        error = procesos[i].waitFor();\n",
        "        if( error != 0)\n",
        "        {\n",
        "          System.out.println(\"Error al ejecuar el programa\");\n",
        "          System.exit(0);\n",
        "        }\n",
        "      }\n",
        "    }\n",
        "    catch (IOException e)\n",
        "    {\n",
        "      System.err.println(\"Problema con el start\");\n",
        "    }\n",
        "    catch (InterruptedException e)\n",
        "    {\n",
        "      System.err.println(\"Problema con el waitfor\");\n",
        "    }\n",
        "  }\n",
        "}"
      ]
    },
    {
      "cell_type": "code",
      "source": [
        "%%writefile Hijo.java\n",
        "import java.io.IOException;\n",
        "public class Hijo\n",
        "{\n",
        "  public static void mostrarInfo(char identidadDelProceso) throws InterruptedException  //OBTENER Y MOSTRAR PID Y PPID\n",
        "  {\n",
        "    ProcessHandle yo = ProcessHandle.current();\n",
        "    long pid = yo.pid();\n",
        "    long ppid = yo.parent().get().pid();\n",
        "    System.out.println(\"Soy el proceso \" + identidadDelProceso + \" con PID: \" + pid + \". Mi padre es el proceso con PID: \" + ppid);\n",
        "    Thread.sleep(100000);\n",
        "  }\n",
        "\n",
        "  public static void main(String[] args) throws IOException, InterruptedException\n",
        "  {\n",
        "    char identidadDelProceso = args[0].toCharArray()[0];\n",
        "    char nuevaIdentidad = 'A';\n",
        "    int cantHijosB = 2;                            //DETERMINAN LA DURACION DEL CICLO FOR DE CREACION Y ESPERA DE PROCESOS\n",
        "    int cantHijosC = 0;\n",
        "    int cantHijosD = 1;\n",
        "    int cantHermanos = 3;\n",
        "    int cantHijos = 0;\n",
        "                                                  //LOS CICLOS VARIAN SEGUN CADA HIJO\n",
        "    if( identidadDelProceso == 'B' )\n",
        "    {\n",
        "      cantHijos = cantHijosB;\n",
        "      nuevaIdentidad = (char) (nuevaIdentidad + cantHermanos);\n",
        "    }\n",
        "    else if( identidadDelProceso == 'D' )\n",
        "    {\n",
        "      cantHijos = cantHijosD;\n",
        "      nuevaIdentidad = (char) (nuevaIdentidad + cantHermanos + cantHijosB + cantHijosC);\n",
        "    }\n",
        "    else\n",
        "    {\n",
        "      cantHijos = 0;\n",
        "    }\n",
        "\n",
        "    ProcessBuilder pb;\n",
        "    int error;\n",
        "\n",
        "    Process [] procesos = new Process[cantHijos];  //ARRAY PARA CONTENER TODOS LOS PROCESOS HIJOS (NIETOS)\n",
        "\n",
        "    try\n",
        "    {\n",
        "      for(int i=0; i<cantHijos; i++)               //CREO UNO POR UNO LOS HIJOS (NIETOS)\n",
        "      {\n",
        "        pb = new ProcessBuilder(\"java\", \"Hijo.java\", Character.toString(nuevaIdentidad+1+i));\n",
        "        pb.redirectErrorStream(true);\n",
        "        pb.inheritIO();\n",
        "        procesos [i] = pb.start();\n",
        "      }\n",
        "\n",
        "      mostrarInfo(identidadDelProceso);           //LLAMO AL METODO PARA MOSTRAR LA INFO DEL PADRE\n",
        "\n",
        "      for(int i=0; i<cantHijos; i++)              //RECORRO EL ARRAY DE PROCESOS HIJOS (NIETOS) PARA ESPERAR A TODOS\n",
        "      {\n",
        "        error = procesos[i].waitFor();\n",
        "        if( error != 0)\n",
        "        {\n",
        "          System.out.println(\"Error al ejecuar el programa\");\n",
        "          System.exit(0);\n",
        "        }\n",
        "      }\n",
        "    }\n",
        "    catch (IOException e)\n",
        "    {\n",
        "      System.err.println(\"Problema con el start\");\n",
        "    }\n",
        "    catch (InterruptedException e)\n",
        "    {\n",
        "      System.err.println(\"Problema con el waitfor\");\n",
        "    }\n",
        "  }\n",
        "}\n"
      ],
      "metadata": {
        "colab": {
          "base_uri": "https://localhost:8080/"
        },
        "id": "gHv68HnBEACa",
        "outputId": "0ea0bdb2-27e9-4037-8aeb-646e18dd0384"
      },
      "execution_count": 2,
      "outputs": [
        {
          "output_type": "stream",
          "name": "stdout",
          "text": [
            "Writing Hijo.java\n"
          ]
        }
      ]
    },
    {
      "cell_type": "code",
      "source": [
        "!chmod 700 ./CreacionDeProcesos.java"
      ],
      "metadata": {
        "id": "JpsnKe6WEGdu"
      },
      "execution_count": 3,
      "outputs": []
    },
    {
      "cell_type": "code",
      "source": [
        "!java ./CreacionDeProcesos.java"
      ],
      "metadata": {
        "colab": {
          "base_uri": "https://localhost:8080/"
        },
        "id": "k6996gmKEQMq",
        "outputId": "99032a30-0d40-40fb-f511-19aa45bcfe04"
      },
      "execution_count": 4,
      "outputs": [
        {
          "output_type": "stream",
          "name": "stdout",
          "text": [
            "Soy el proceso A con PID: 716. Mi padre es el proceso con PID: 315\n",
            "Soy el proceso C con PID: 747. Mi padre es el proceso con PID: 716\n",
            "Soy el proceso D con PID: 750. Mi padre es el proceso con PID: 716\n",
            "Soy el proceso B con PID: 739. Mi padre es el proceso con PID: 716\n",
            "Soy el proceso F con PID: 833. Mi padre es el proceso con PID: 739\n",
            "Soy el proceso E con PID: 824. Mi padre es el proceso con PID: 739\n",
            "Soy el proceso G con PID: 823. Mi padre es el proceso con PID: 750\n"
          ]
        }
      ]
    }
  ]
}