{
  "nbformat": 4,
  "nbformat_minor": 0,
  "metadata": {
    "colab": {
      "provenance": [],
      "authorship_tag": "ABX9TyO3cAs8LbnTgy8W80S5ATvv",
      "include_colab_link": true
    },
    "kernelspec": {
      "name": "python3",
      "display_name": "Python 3"
    },
    "language_info": {
      "name": "python"
    }
  },
  "cells": [
    {
      "cell_type": "markdown",
      "metadata": {
        "id": "view-in-github",
        "colab_type": "text"
      },
      "source": [
        "<a href=\"https://colab.research.google.com/github/MarilynDaiana/Programacion_Concurrente/blob/tp/pythonTP1.ipynb\" target=\"_parent\"><img src=\"https://colab.research.google.com/assets/colab-badge.svg\" alt=\"Open In Colab\"/></a>"
      ]
    },
    {
      "cell_type": "code",
      "execution_count": null,
      "metadata": {
        "colab": {
          "base_uri": "https://localhost:8080/"
        },
        "id": "_K06uw4wDaGS",
        "outputId": "de31b606-95d3-4fc8-b55e-eb38f76d5eb8"
      },
      "outputs": [
        {
          "output_type": "stream",
          "name": "stdout",
          "text": [
            "Overwriting archivo.py\n"
          ]
        }
      ],
      "source": [
        "%%writefile archivo.py\n",
        "nuevo_archivo = open(\"archivo_origen.txt\",\"w\")\n",
        "nuevo_archivo.write(\"123456\\n\")\n",
        "nuevo_archivo.write(\"123456hola como estan todos\")"
      ]
    },
    {
      "cell_type": "code",
      "source": [
        "!chmod 700 ./archivo.py"
      ],
      "metadata": {
        "id": "Qrq5DuZLDq0O"
      },
      "execution_count": null,
      "outputs": []
    },
    {
      "cell_type": "code",
      "source": [
        "!nohup python ./archivo.py 1>salida 2>/dev/null &"
      ],
      "metadata": {
        "id": "eRdhk0IADrmN"
      },
      "execution_count": null,
      "outputs": []
    },
    {
      "cell_type": "code",
      "source": [
        "%%writefile proceso.py\n",
        "from multiprocessing import Pipe\n",
        "import os\n",
        "import sys\n",
        "\n",
        "CHUNK = 512\n",
        "PATH_INI = \"archivo_origen.txt\"\n",
        "PATH_FIN = \"archivo_origen\"\n",
        "LECTURA = \"rb\"\n",
        "ESCRITURA = \"wb\"\n",
        "COPIA = \"copia.txt\"\n",
        "\n",
        "def padre_envia(envio,recepcion,path,modo,chunk):\n",
        "  recepcion.close()\n",
        "\n",
        "  with open(path,modo) as f:\n",
        "    while True:\n",
        "      datos_bytes = f.read(chunk)\n",
        "      if not datos_bytes:\n",
        "        break\n",
        "      envio.send_bytes(datos_bytes)\n",
        "\n",
        "  envio.close()\n",
        "  os.wait()\n",
        "\n",
        "def hijo_lee(envio,recepcion,path,modo):\n",
        "  envio.close()\n",
        "  new_path = path + COPIA\n",
        "  datos = recepcion.recv_bytes()\n",
        "\n",
        "  with open(path,modo) as f:\n",
        "      f.write(datos)\n",
        "  print(\"Archivo recibido\")\n",
        "  recepcion.close()\n",
        "  os._exit(0)\n",
        "\n",
        "\n",
        "#comienza el main\n",
        "recepcion, envio = Pipe( False )\n",
        "\n",
        "pid = os.fork()\n",
        "\n",
        "if pid < 0:\n",
        "  print(\"Error al crear nuevo proceso\")\n",
        "  sys.exit(1)\n",
        "\n",
        "if pid:\n",
        "  #el padre envia archivo\n",
        "  padre_envia(envio,recepcion,PATH_INI,LECTURA,CHUNK)\n",
        "else:\n",
        "  #el hijo recibe el archivo\n",
        "  hijo_lee(envio,recepcion,PATH_FIN,ESCRITURA)"
      ],
      "metadata": {
        "colab": {
          "base_uri": "https://localhost:8080/"
        },
        "id": "VCWPPyGlDudM",
        "outputId": "861c884f-6181-48b3-d238-7c0bc35d3069"
      },
      "execution_count": 2,
      "outputs": [
        {
          "output_type": "stream",
          "name": "stdout",
          "text": [
            "Overwriting proceso.py\n"
          ]
        }
      ]
    },
    {
      "cell_type": "code",
      "source": [
        "!chmod 700 ./archivo.py"
      ],
      "metadata": {
        "id": "oDzwl75sGG9-"
      },
      "execution_count": 3,
      "outputs": []
    },
    {
      "cell_type": "code",
      "source": [
        "!nohup python ./archivo.py 1>salida 2>/dev/null &"
      ],
      "metadata": {
        "id": "8pS7ZyFMGIkW"
      },
      "execution_count": 4,
      "outputs": []
    },
    {
      "cell_type": "code",
      "source": [
        "!diff archivo_origen.txt archivo_origencopia.txt"
      ],
      "metadata": {
        "id": "jhY3KYlMGL8d"
      },
      "execution_count": 5,
      "outputs": []
    }
  ]
}